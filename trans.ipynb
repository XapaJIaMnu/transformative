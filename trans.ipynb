{
 "cells": [
  {
   "cell_type": "code",
   "execution_count": 56,
   "metadata": {},
   "outputs": [
    {
     "name": "stdout",
     "output_type": "stream",
     "text": [
      "{'I': 0, 'LIKE': 1, 'PIE': 2, 'VERY': 3, 'MUCH': 4, '.': 5, '<unk>': 6, '<s>': 7}\n",
      "tensor([[-0.8201,  0.3956,  0.8989,  ...,  0.2500, -0.8542,  0.4376],\n",
      "        [ 0.3811,  0.3953, -1.5423,  ...,  0.6046,  0.3367, -0.9041],\n",
      "        [ 0.8511,  0.1124,  1.3421,  ...,  0.1326,  2.4947,  1.4662],\n",
      "        ...,\n",
      "        [-0.1571, -0.9080, -1.6175,  ...,  1.7259,  2.4928, -0.9008],\n",
      "        [ 0.7208,  1.3598, -0.4817,  ..., -1.1913,  0.9311, -1.6440],\n",
      "        [ 2.7773,  0.2596,  1.1394,  ..., -0.3252, -0.5689, -1.6829]],\n",
      "       requires_grad=True)\n",
      "torch.Size([8, 512])\n",
      "torch.float32\n",
      "tensor([[ 0.0000e+00,  1.0000e+00,  0.0000e+00,  ...,  1.0000e+00,\n",
      "          0.0000e+00,  1.0000e+00],\n",
      "        [ 8.4147e-01,  5.4030e-01,  8.2186e-01,  ...,  1.0000e+00,\n",
      "          1.0366e-04,  1.0000e+00],\n",
      "        [ 9.0930e-01, -4.1615e-01,  9.3641e-01,  ...,  1.0000e+00,\n",
      "          2.0733e-04,  1.0000e+00],\n",
      "        ...,\n",
      "        [-7.5680e-01, -6.5364e-01, -6.5717e-01,  ...,  1.0000e+00,\n",
      "          4.1465e-04,  1.0000e+00],\n",
      "        [-9.5892e-01,  2.8366e-01, -9.9385e-01,  ...,  1.0000e+00,\n",
      "          5.1832e-04,  1.0000e+00],\n",
      "        [-2.7942e-01,  9.6017e-01, -4.7522e-01,  ...,  1.0000e+00,\n",
      "          6.2198e-04,  1.0000e+00]])\n",
      "tensor([[-0.8201,  0.3956,  0.8989,  ...,  0.2500, -0.8542,  0.4376],\n",
      "        [ 0.3811,  0.3953, -1.5423,  ...,  0.6046,  0.3367, -0.9041],\n",
      "        [ 0.8511,  0.1124,  1.3421,  ...,  0.1326,  2.4947,  1.4662],\n",
      "        ...,\n",
      "        [-1.2404,  0.7834, -0.2800,  ...,  0.8025, -0.5108,  2.7159],\n",
      "        [ 0.8511,  0.1124,  1.3421,  ...,  0.1326,  2.4947,  1.4662],\n",
      "        [-0.1571, -0.9080, -1.6175,  ...,  1.7259,  2.4928, -0.9008]],\n",
      "       grad_fn=<MmBackward>)\n",
      "tensor([[-18.5575,   8.9521,  20.3400,  ...,   5.6569, -19.3293,   9.9023],\n",
      "        [  8.6243,   8.9437, -34.8992,  ...,  13.6798,   7.6187, -20.4575],\n",
      "        [ 19.2591,   2.5425,  30.3674,  ...,   3.0001,  56.4485,  33.1760],\n",
      "        ...,\n",
      "        [-28.0679,  17.7260,  -6.3350,  ...,  18.1593, -11.5571,  61.4531],\n",
      "        [ 19.2591,   2.5425,  30.3674,  ...,   3.0001,  56.4485,  33.1760],\n",
      "        [ -3.5558, -20.5465, -36.6004,  ...,  39.0522,  56.4064, -20.3824]],\n",
      "       grad_fn=<MulBackward0>)\n",
      "tensor([[-18.5575,   9.9521,  20.3400,  ...,   6.6569, -19.3293,  10.9023],\n",
      "        [  9.4658,   9.4840, -34.0773,  ...,  14.6798,   7.6188, -19.4575],\n",
      "        [ 20.1684,   2.1264,  31.3038,  ...,   4.0001,  56.4487,  34.1760],\n",
      "        ...,\n",
      "        [-28.8247,  17.0723,  -6.9922,  ...,  19.1593, -11.5567,  62.4531],\n",
      "        [ 18.3002,   2.8262,  29.3736,  ...,   4.0001,  56.4490,  34.1760],\n",
      "        [ -3.8352, -19.5863, -37.0756,  ...,  40.0522,  56.4070, -19.3824]],\n",
      "       grad_fn=<AddBackward0>)\n",
      "torch.Size([7, 512])\n",
      "torch.float32\n"
     ]
    }
   ],
   "source": [
    "import torch\n",
    "import numpy as np\n",
    "from math import sin, cos\n",
    "\n",
    "SENTENCE = \"I LIKE PIE VERY MUCH PIE .\"\n",
    "DIM_VOCAB = 512\n",
    "torch.manual_seed(7)\n",
    "\n",
    "vocab = dict()\n",
    "i = 0\n",
    "for token in SENTENCE.split():\n",
    "    if token not in vocab:\n",
    "        vocab[token] = i\n",
    "        i += 1\n",
    "vocab[\"<unk>\"] = i\n",
    "vocab[\"<s>\"] = i + 1\n",
    "print(vocab)\n",
    "\n",
    "DICT_SIZE = len(vocab)\n",
    "\n",
    "oneHotSent = np.zeros((len(SENTENCE.split()), DICT_SIZE), dtype=float)\n",
    "\n",
    "for i in range(len(SENTENCE.split())):\n",
    "    word = SENTENCE.split()[i]\n",
    "    oneHotSent[i][vocab[word]] = 1\n",
    "\n",
    "oneHotTorch = torch.as_tensor(oneHotSent, dtype=torch.float32)\n",
    "    \n",
    "#print(oneHotTorch)\n",
    "#print(oneHotTorch.shape)\n",
    "#print(oneHotTorch.dtype)\n",
    "\n",
    "#DATA PREPARATION DONE\n",
    "\n",
    "We_skeleton = torch.tensor(np.zeros((DICT_SIZE, DIM_VOCAB), dtype=float), dtype=torch.float32,).normal_(0, 1)\n",
    "We = torch.autograd.Variable(We_skeleton, requires_grad=True)\n",
    "print(We)\n",
    "print(We.shape)\n",
    "print(We.dtype)\n",
    "\n",
    "\n",
    "Batch = oneHotTorch.mm(We)\n",
    "Pos_emb = np.zeros(Batch.shape, dtype=float)\n",
    "for p in range(len(SENTENCE.split())):\n",
    "    for i in range(DIM_VOCAB//2):\n",
    "        val = p/(10000**(2*i/DIM_VOCAB))\n",
    "        Pos_emb[p][2*i] = sin(val)\n",
    "        Pos_emb[p][2*i + 1] = cos(val)\n",
    "\n",
    "Pos_emb_var = torch.autograd.Variable(torch.tensor(Pos_emb, dtype=torch.float32), requires_grad=False)\n",
    "print(Pos_emb_var)\n",
    "\n",
    "print(Batch)\n",
    "#Scale batch up\n",
    "Batch = Batch*(DIM_VOCAB**(1/2))\n",
    "print(Batch)\n",
    "Batch = Batch + Pos_emb_var\n",
    "print(Batch)\n",
    "\n",
    "print(Batch.shape)\n",
    "print(Batch.dtype)\n",
    "\n",
    "#Batch (in this case a one sentence batch) is prepared. Maxi calls this embedded sentence\n"
   ]
  },
  {
   "cell_type": "code",
   "execution_count": 55,
   "metadata": {},
   "outputs": [
    {
     "ename": "SyntaxError",
     "evalue": "unexpected EOF while parsing (<ipython-input-55-361f39786ac1>, line 2)",
     "output_type": "error",
     "traceback": [
      "\u001b[0;36m  File \u001b[0;32m\"<ipython-input-55-361f39786ac1>\"\u001b[0;36m, line \u001b[0;32m2\u001b[0m\n\u001b[0;31m    \u001b[0m\n\u001b[0m    ^\u001b[0m\n\u001b[0;31mSyntaxError\u001b[0m\u001b[0;31m:\u001b[0m unexpected EOF while parsing\n"
     ]
    }
   ],
   "source": [
    "class layer:\n",
    "    "
   ]
  },
  {
   "cell_type": "code",
   "execution_count": null,
   "metadata": {},
   "outputs": [],
   "source": []
  },
  {
   "cell_type": "code",
   "execution_count": null,
   "metadata": {},
   "outputs": [],
   "source": []
  }
 ],
 "metadata": {
  "kernelspec": {
   "display_name": "Python 3",
   "language": "python",
   "name": "python3"
  },
  "language_info": {
   "codemirror_mode": {
    "name": "ipython",
    "version": 3
   },
   "file_extension": ".py",
   "mimetype": "text/x-python",
   "name": "python",
   "nbconvert_exporter": "python",
   "pygments_lexer": "ipython3",
   "version": "3.7.2"
  }
 },
 "nbformat": 4,
 "nbformat_minor": 2
}
